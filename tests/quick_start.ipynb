{
 "cells": [
  {
   "cell_type": "code",
   "execution_count": 1,
   "id": "initial_id",
   "metadata": {
    "collapsed": true,
    "ExecuteTime": {
     "end_time": "2023-08-28T08:43:12.987199Z",
     "start_time": "2023-08-28T08:43:12.976620Z"
    }
   },
   "outputs": [],
   "source": [
    "# https://facebook.github.io/prophet/docs/quick_start.html#python-api"
   ]
  },
  {
   "cell_type": "code",
   "execution_count": 10,
   "outputs": [],
   "source": [
    "import pandas as pd\n",
    "from prophet import Prophet"
   ],
   "metadata": {
    "collapsed": false,
    "ExecuteTime": {
     "end_time": "2023-08-28T08:46:12.025680Z",
     "start_time": "2023-08-28T08:46:11.976657Z"
    }
   },
   "id": "35a6623140b9f14a"
  },
  {
   "cell_type": "code",
   "execution_count": 11,
   "outputs": [],
   "source": [
    "# Importing plotly failed. Interactive plots will not work.\n",
    "# -> https://github.com/facebook/prophet/issues/2387"
   ],
   "metadata": {
    "collapsed": false,
    "ExecuteTime": {
     "end_time": "2023-08-28T08:46:12.963584Z",
     "start_time": "2023-08-28T08:46:12.956305Z"
    }
   },
   "id": "25a1ed2be65c6518"
  },
  {
   "cell_type": "code",
   "execution_count": 12,
   "outputs": [
    {
     "data": {
      "text/plain": "           ds         y\n0  2007-12-10  9.590761\n1  2007-12-11  8.519590\n2  2007-12-12  8.183677\n3  2007-12-13  8.072467\n4  2007-12-14  7.893572",
      "text/html": "<div>\n<style scoped>\n    .dataframe tbody tr th:only-of-type {\n        vertical-align: middle;\n    }\n\n    .dataframe tbody tr th {\n        vertical-align: top;\n    }\n\n    .dataframe thead th {\n        text-align: right;\n    }\n</style>\n<table border=\"1\" class=\"dataframe\">\n  <thead>\n    <tr style=\"text-align: right;\">\n      <th></th>\n      <th>ds</th>\n      <th>y</th>\n    </tr>\n  </thead>\n  <tbody>\n    <tr>\n      <th>0</th>\n      <td>2007-12-10</td>\n      <td>9.590761</td>\n    </tr>\n    <tr>\n      <th>1</th>\n      <td>2007-12-11</td>\n      <td>8.519590</td>\n    </tr>\n    <tr>\n      <th>2</th>\n      <td>2007-12-12</td>\n      <td>8.183677</td>\n    </tr>\n    <tr>\n      <th>3</th>\n      <td>2007-12-13</td>\n      <td>8.072467</td>\n    </tr>\n    <tr>\n      <th>4</th>\n      <td>2007-12-14</td>\n      <td>7.893572</td>\n    </tr>\n  </tbody>\n</table>\n</div>"
     },
     "execution_count": 12,
     "metadata": {},
     "output_type": "execute_result"
    }
   ],
   "source": [
    "df = pd.read_csv('https://raw.githubusercontent.com/facebook/prophet/main/examples/example_wp_log_peyton_manning.csv')\n",
    "df.head()"
   ],
   "metadata": {
    "collapsed": false,
    "ExecuteTime": {
     "end_time": "2023-08-28T08:46:14.048363Z",
     "start_time": "2023-08-28T08:46:13.860857Z"
    }
   },
   "id": "92261924bc7672cc"
  },
  {
   "cell_type": "code",
   "execution_count": 13,
   "outputs": [
    {
     "name": "stderr",
     "output_type": "stream",
     "text": [
      "17:46:15 - cmdstanpy - INFO - Chain [1] start processing\n",
      "17:46:15 - cmdstanpy - INFO - Chain [1] done processing\n",
      "17:46:15 - cmdstanpy - ERROR - Chain [1] error: terminated by signal 6 Unknown error: -6\n",
      "Optimization terminated abnormally. Falling back to Newton.\n",
      "17:46:15 - cmdstanpy - INFO - Chain [1] start processing\n",
      "17:46:15 - cmdstanpy - INFO - Chain [1] done processing\n",
      "17:46:15 - cmdstanpy - ERROR - Chain [1] error: terminated by signal 6 Unknown error: -6\n"
     ]
    },
    {
     "ename": "RuntimeError",
     "evalue": "Error during optimization! Command '/Users/m2/code/ml/b2t-study-prophet/.venv/lib/python3.9/site-packages/prophet/stan_model/prophet_model.bin random seed=24377 data file=/var/folders/gx/1mr3nkhn62s1sxgdwspbnk4c0000gp/T/tmpjr2bw6u6/vgwkxq_3.json init=/var/folders/gx/1mr3nkhn62s1sxgdwspbnk4c0000gp/T/tmpjr2bw6u6/svsvzxz_.json output file=/var/folders/gx/1mr3nkhn62s1sxgdwspbnk4c0000gp/T/tmpjr2bw6u6/prophet_modeltp0ip4hn/prophet_model-20230828174615.csv method=optimize algorithm=newton iter=10000' failed: console log output:\n\ndyld[2075]: Library not loaded: @rpath/libtbb.dylib\n  Referenced from: <5A320F93-3D1A-327B-B6C4-851ADAC99095> /Users/m2/code/ml/b2t-study-prophet/.venv/lib/python3.9/site-packages/prophet/stan_model/prophet_model.bin\n  Reason: tried: '/private/var/folders/gx/1mr3nkhn62s1sxgdwspbnk4c0000gp/T/pdm-build-srbd6tdv/build/lib.macosx-13.0-arm64-cpython-39/prophet/stan_model/cmdstan-2.31.0/stan/lib/stan_math/lib/tbb/libtbb.dylib' (no such file), '/System/Volumes/Preboot/Cryptexes/OS/private/var/folders/gx/1mr3nkhn62s1sxgdwspbnk4c0000gp/T/pdm-build-srbd6tdv/build/lib.macosx-13.0-arm64-cpython-39/prophet/stan_model/cmdstan-2.31.0/stan/lib/stan_math/lib/tbb/libtbb.dylib' (no such file), '/private/var/folders/gx/1mr3nkhn62s1sxgdwspbnk4c0000gp/T/pdm-build-srbd6tdv/build/lib.macosx-13.0-arm64-cpython-39/prophet/stan_model/cmdstan-2.31.0/stan/lib/stan_math/lib/tbb/libtbb.dylib' (no such file), '/System/Volumes/Preboot/Cryptexes/OS/private/var/folders/gx/1mr3nkhn62s1sxgdwspbnk4c0000gp/T/pdm-build-srbd6tdv/build/lib.macosx-13.0-arm64-cpython-39/prophet/stan_model/cmdstan-2.31.0/stan/lib/stan_math/lib/tbb/libtbb.dylib' (no such file), '/private/var/folders/gx/1mr3nkhn62s1sxgdwspbnk4c0000gp/T/pdm-build-srbd6tdv/build/lib.macosx-13.0-arm64-cpython-39/prophet/stan_model/cmdstan-2.31.0/stan/lib/stan_math/lib/tbb/libtbb.dylib' (no such file), '/System/Volumes/Preboot/Cryptexes/OS/private/var/folders/gx/1mr3nkhn62s1sxgdwspbnk4c0000gp/T/pdm-build-srbd6tdv/build/lib.macosx-13.0-arm64-cpython-39/prophet/stan_model/cmdstan-2.31.0/stan/lib/stan_math/lib/tbb/libtbb.dylib' (no such file), '/private/var/folders/gx/1mr3nkhn62s1sxgdwspbnk4c0000gp/T/pdm-build-srbd6tdv/build/lib.macosx-13.0-arm64-cpython-39/prophet/stan_model/cmdstan-2.31.0/stan/lib/stan_math/lib/tbb/libtbb.dylib' (no such file), '/System/Volumes/Preboot/Cryptexes/OS/private/var/folders/gx/1mr3nkhn62s1sxgdwspbnk4c0000gp/T/pdm-build-srbd6tdv/build/lib.macosx-13.0-arm64-cpython-39/prophet/stan_model/cmdstan-2.31.0/stan/lib/stan_math/lib/tbb/libtbb.dylib' (no such file), '/System/Volumes/Preboot/Cryptexes/OS@rpath/libtbb.dylib' (no such file), '/private/var/folders/gx/1mr3nkhn62s1sxgdwspbnk4c0000gp/T/pdm-build-srbd6tdv/build/lib.macosx-13.0-arm64-cpython-39/prophet/stan_model/cmdstan-2.31.0/stan/lib/stan_math/lib/tbb/libtbb.dylib' (no such file), '/System/Volumes/Preboot/Cryptexes/OS/private/var/folders/gx/1mr3nkhn62s1sxgdwspbnk4c0000gp/T/pdm-build-srbd6tdv/build/lib.macosx-13.0-arm64-cpython-39/prophet/stan_model/cmdstan-2.31.0/stan/lib/stan_math/lib/tbb/libtbb.dylib' (no such file), '/private/var/folders/gx/1mr3nkhn62s1sxgdwspbnk4c0000gp/T/pdm-build-srbd6tdv/build/lib.macosx-13.0-arm64-cpython-39/prophet/stan_model/cmdstan-2.31.0/stan/lib/stan_math/lib/tbb/libtbb.dylib' (no such file), '/System/Volumes/Preboot/Cryptexes/OS/private/var/folders/gx/1mr3nkhn62s1sxgdwspbnk4c0000gp/T/pdm-build-srbd6tdv/build/lib.macosx-13.0-arm64-cpython-39/prophet/stan_model/cmdstan-2.31.0/stan/lib/stan_math/lib/tbb/libtbb.dylib' (no such file), '/private/var/folders/gx/1mr3nkhn62s1sxgdwspbnk4c0000gp/T/pdm-build-srbd6tdv/build/lib.macosx-13.0-arm64-cpython-39/prophet/stan_model/cmdstan-2.31.0/stan/lib/stan_math/lib/tbb/libtbb.dylib' (no such file), '/System/Volumes/Preboot/Cryptexes/OS/private/var/folders/gx/1mr3nkhn62s1sxgdwspbnk4c0000gp/T/pdm-build-srbd6tdv/build/lib.macosx-13.0-arm64-cpython-39/prophet/stan_model/cmdstan-2.31.0/stan/lib/stan_math/lib/tbb/libtbb.dylib' (no such file), '/private/var/folders/gx/1mr3nkhn62s1sxgdwspbnk4c0000gp/T/pdm-build-srbd6tdv/build/lib.macosx-13.0-arm64-cpython-39/prophet/stan_model/cmdstan-2.31.0/stan/lib/stan_math/lib/tbb/libtbb.dylib' (no such file), '/System/Volumes/Preboot/Cryptexes/OS/private/var/folders/gx/1mr3nkhn62s1sxgdwspbnk4c0000gp/T/pdm-build-srbd6tdv/build/lib.macosx-13.0-arm64-cpython-39/prophet/stan_model/cmdstan-2.31.0/stan/lib/stan_math/lib/tbb/libtbb.dylib' (no such file), '/usr/local/lib/libtbb.dylib' (no such file), '/usr/lib/libtbb.dylib' (no such file, not in dyld cache)\n",
     "output_type": "error",
     "traceback": [
      "\u001B[0;31m---------------------------------------------------------------------------\u001B[0m",
      "\u001B[0;31mRuntimeError\u001B[0m                              Traceback (most recent call last)",
      "File \u001B[0;32m~/code/ml/b2t-study-prophet/.venv/lib/python3.9/site-packages/prophet/models.py:90\u001B[0m, in \u001B[0;36mCmdStanPyBackend.fit\u001B[0;34m(self, stan_init, stan_data, **kwargs)\u001B[0m\n\u001B[1;32m     89\u001B[0m \u001B[38;5;28;01mtry\u001B[39;00m:\n\u001B[0;32m---> 90\u001B[0m     \u001B[38;5;28mself\u001B[39m\u001B[38;5;241m.\u001B[39mstan_fit \u001B[38;5;241m=\u001B[39m \u001B[38;5;28;43mself\u001B[39;49m\u001B[38;5;241;43m.\u001B[39;49m\u001B[43mmodel\u001B[49m\u001B[38;5;241;43m.\u001B[39;49m\u001B[43moptimize\u001B[49m\u001B[43m(\u001B[49m\u001B[38;5;241;43m*\u001B[39;49m\u001B[38;5;241;43m*\u001B[39;49m\u001B[43margs\u001B[49m\u001B[43m)\u001B[49m\n\u001B[1;32m     91\u001B[0m \u001B[38;5;28;01mexcept\u001B[39;00m \u001B[38;5;167;01mRuntimeError\u001B[39;00m \u001B[38;5;28;01mas\u001B[39;00m e:\n\u001B[1;32m     92\u001B[0m     \u001B[38;5;66;03m# Fall back on Newton\u001B[39;00m\n",
      "File \u001B[0;32m~/code/ml/b2t-study-prophet/.venv/lib/python3.9/site-packages/cmdstanpy/model.py:738\u001B[0m, in \u001B[0;36mCmdStanModel.optimize\u001B[0;34m(self, data, seed, inits, output_dir, sig_figs, save_profile, algorithm, init_alpha, tol_obj, tol_rel_obj, tol_grad, tol_rel_grad, tol_param, history_size, iter, save_iterations, require_converged, show_console, refresh, time_fmt, timeout)\u001B[0m\n\u001B[1;32m    737\u001B[0m     \u001B[38;5;28;01melse\u001B[39;00m:\n\u001B[0;32m--> 738\u001B[0m         \u001B[38;5;28;01mraise\u001B[39;00m \u001B[38;5;167;01mRuntimeError\u001B[39;00m(msg)\n\u001B[1;32m    739\u001B[0m mle \u001B[38;5;241m=\u001B[39m CmdStanMLE(runset)\n",
      "\u001B[0;31mRuntimeError\u001B[0m: Error during optimization! Command '/Users/m2/code/ml/b2t-study-prophet/.venv/lib/python3.9/site-packages/prophet/stan_model/prophet_model.bin random seed=38823 data file=/var/folders/gx/1mr3nkhn62s1sxgdwspbnk4c0000gp/T/tmpjr2bw6u6/z_lpopna.json init=/var/folders/gx/1mr3nkhn62s1sxgdwspbnk4c0000gp/T/tmpjr2bw6u6/we_8aqhs.json output file=/var/folders/gx/1mr3nkhn62s1sxgdwspbnk4c0000gp/T/tmpjr2bw6u6/prophet_model9rao3cgr/prophet_model-20230828174615.csv method=optimize algorithm=lbfgs iter=10000' failed: console log output:\n\ndyld[2074]: Library not loaded: @rpath/libtbb.dylib\n  Referenced from: <5A320F93-3D1A-327B-B6C4-851ADAC99095> /Users/m2/code/ml/b2t-study-prophet/.venv/lib/python3.9/site-packages/prophet/stan_model/prophet_model.bin\n  Reason: tried: '/private/var/folders/gx/1mr3nkhn62s1sxgdwspbnk4c0000gp/T/pdm-build-srbd6tdv/build/lib.macosx-13.0-arm64-cpython-39/prophet/stan_model/cmdstan-2.31.0/stan/lib/stan_math/lib/tbb/libtbb.dylib' (no such file), '/System/Volumes/Preboot/Cryptexes/OS/private/var/folders/gx/1mr3nkhn62s1sxgdwspbnk4c0000gp/T/pdm-build-srbd6tdv/build/lib.macosx-13.0-arm64-cpython-39/prophet/stan_model/cmdstan-2.31.0/stan/lib/stan_math/lib/tbb/libtbb.dylib' (no such file), '/private/var/folders/gx/1mr3nkhn62s1sxgdwspbnk4c0000gp/T/pdm-build-srbd6tdv/build/lib.macosx-13.0-arm64-cpython-39/prophet/stan_model/cmdstan-2.31.0/stan/lib/stan_math/lib/tbb/libtbb.dylib' (no such file), '/System/Volumes/Preboot/Cryptexes/OS/private/var/folders/gx/1mr3nkhn62s1sxgdwspbnk4c0000gp/T/pdm-build-srbd6tdv/build/lib.macosx-13.0-arm64-cpython-39/prophet/stan_model/cmdstan-2.31.0/stan/lib/stan_math/lib/tbb/libtbb.dylib' (no such file), '/private/var/folders/gx/1mr3nkhn62s1sxgdwspbnk4c0000gp/T/pdm-build-srbd6tdv/build/lib.macosx-13.0-arm64-cpython-39/prophet/stan_model/cmdstan-2.31.0/stan/lib/stan_math/lib/tbb/libtbb.dylib' (no such file), '/System/Volumes/Preboot/Cryptexes/OS/private/var/folders/gx/1mr3nkhn62s1sxgdwspbnk4c0000gp/T/pdm-build-srbd6tdv/build/lib.macosx-13.0-arm64-cpython-39/prophet/stan_model/cmdstan-2.31.0/stan/lib/stan_math/lib/tbb/libtbb.dylib' (no such file), '/private/var/folders/gx/1mr3nkhn62s1sxgdwspbnk4c0000gp/T/pdm-build-srbd6tdv/build/lib.macosx-13.0-arm64-cpython-39/prophet/stan_model/cmdstan-2.31.0/stan/lib/stan_math/lib/tbb/libtbb.dylib' (no such file), '/System/Volumes/Preboot/Cryptexes/OS/private/var/folders/gx/1mr3nkhn62s1sxgdwspbnk4c0000gp/T/pdm-build-srbd6tdv/build/lib.macosx-13.0-arm64-cpython-39/prophet/stan_model/cmdstan-2.31.0/stan/lib/stan_math/lib/tbb/libtbb.dylib' (no such file), '/System/Volumes/Preboot/Cryptexes/OS@rpath/libtbb.dylib' (no such file), '/private/var/folders/gx/1mr3nkhn62s1sxgdwspbnk4c0000gp/T/pdm-build-srbd6tdv/build/lib.macosx-13.0-arm64-cpython-39/prophet/stan_model/cmdstan-2.31.0/stan/lib/stan_math/lib/tbb/libtbb.dylib' (no such file), '/System/Volumes/Preboot/Cryptexes/OS/private/var/folders/gx/1mr3nkhn62s1sxgdwspbnk4c0000gp/T/pdm-build-srbd6tdv/build/lib.macosx-13.0-arm64-cpython-39/prophet/stan_model/cmdstan-2.31.0/stan/lib/stan_math/lib/tbb/libtbb.dylib' (no such file), '/private/var/folders/gx/1mr3nkhn62s1sxgdwspbnk4c0000gp/T/pdm-build-srbd6tdv/build/lib.macosx-13.0-arm64-cpython-39/prophet/stan_model/cmdstan-2.31.0/stan/lib/stan_math/lib/tbb/libtbb.dylib' (no such file), '/System/Volumes/Preboot/Cryptexes/OS/private/var/folders/gx/1mr3nkhn62s1sxgdwspbnk4c0000gp/T/pdm-build-srbd6tdv/build/lib.macosx-13.0-arm64-cpython-39/prophet/stan_model/cmdstan-2.31.0/stan/lib/stan_math/lib/tbb/libtbb.dylib' (no such file), '/private/var/folders/gx/1mr3nkhn62s1sxgdwspbnk4c0000gp/T/pdm-build-srbd6tdv/build/lib.macosx-13.0-arm64-cpython-39/prophet/stan_model/cmdstan-2.31.0/stan/lib/stan_math/lib/tbb/libtbb.dylib' (no such file), '/System/Volumes/Preboot/Cryptexes/OS/private/var/folders/gx/1mr3nkhn62s1sxgdwspbnk4c0000gp/T/pdm-build-srbd6tdv/build/lib.macosx-13.0-arm64-cpython-39/prophet/stan_model/cmdstan-2.31.0/stan/lib/stan_math/lib/tbb/libtbb.dylib' (no such file), '/private/var/folders/gx/1mr3nkhn62s1sxgdwspbnk4c0000gp/T/pdm-build-srbd6tdv/build/lib.macosx-13.0-arm64-cpython-39/prophet/stan_model/cmdstan-2.31.0/stan/lib/stan_math/lib/tbb/libtbb.dylib' (no such file), '/System/Volumes/Preboot/Cryptexes/OS/private/var/folders/gx/1mr3nkhn62s1sxgdwspbnk4c0000gp/T/pdm-build-srbd6tdv/build/lib.macosx-13.0-arm64-cpython-39/prophet/stan_model/cmdstan-2.31.0/stan/lib/stan_math/lib/tbb/libtbb.dylib' (no such file), '/usr/local/lib/libtbb.dylib' (no such file), '/usr/lib/libtbb.dylib' (no such file, not in dyld cache)\n",
      "\nDuring handling of the above exception, another exception occurred:\n",
      "\u001B[0;31mRuntimeError\u001B[0m                              Traceback (most recent call last)",
      "Cell \u001B[0;32mIn[13], line 2\u001B[0m\n\u001B[1;32m      1\u001B[0m m \u001B[38;5;241m=\u001B[39m Prophet()\n\u001B[0;32m----> 2\u001B[0m \u001B[43mm\u001B[49m\u001B[38;5;241;43m.\u001B[39;49m\u001B[43mfit\u001B[49m\u001B[43m(\u001B[49m\u001B[43mdf\u001B[49m\u001B[43m)\u001B[49m\n",
      "File \u001B[0;32m~/code/ml/b2t-study-prophet/.venv/lib/python3.9/site-packages/prophet/forecaster.py:1181\u001B[0m, in \u001B[0;36mProphet.fit\u001B[0;34m(self, df, **kwargs)\u001B[0m\n\u001B[1;32m   1179\u001B[0m     \u001B[38;5;28mself\u001B[39m\u001B[38;5;241m.\u001B[39mparams \u001B[38;5;241m=\u001B[39m \u001B[38;5;28mself\u001B[39m\u001B[38;5;241m.\u001B[39mstan_backend\u001B[38;5;241m.\u001B[39msampling(stan_init, dat, \u001B[38;5;28mself\u001B[39m\u001B[38;5;241m.\u001B[39mmcmc_samples, \u001B[38;5;241m*\u001B[39m\u001B[38;5;241m*\u001B[39mkwargs)\n\u001B[1;32m   1180\u001B[0m \u001B[38;5;28;01melse\u001B[39;00m:\n\u001B[0;32m-> 1181\u001B[0m     \u001B[38;5;28mself\u001B[39m\u001B[38;5;241m.\u001B[39mparams \u001B[38;5;241m=\u001B[39m \u001B[38;5;28;43mself\u001B[39;49m\u001B[38;5;241;43m.\u001B[39;49m\u001B[43mstan_backend\u001B[49m\u001B[38;5;241;43m.\u001B[39;49m\u001B[43mfit\u001B[49m\u001B[43m(\u001B[49m\u001B[43mstan_init\u001B[49m\u001B[43m,\u001B[49m\u001B[43m \u001B[49m\u001B[43mdat\u001B[49m\u001B[43m,\u001B[49m\u001B[43m \u001B[49m\u001B[38;5;241;43m*\u001B[39;49m\u001B[38;5;241;43m*\u001B[39;49m\u001B[43mkwargs\u001B[49m\u001B[43m)\u001B[49m\n\u001B[1;32m   1183\u001B[0m \u001B[38;5;28mself\u001B[39m\u001B[38;5;241m.\u001B[39mstan_fit \u001B[38;5;241m=\u001B[39m \u001B[38;5;28mself\u001B[39m\u001B[38;5;241m.\u001B[39mstan_backend\u001B[38;5;241m.\u001B[39mstan_fit\n\u001B[1;32m   1184\u001B[0m \u001B[38;5;66;03m# If no changepoints were requested, replace delta with 0s\u001B[39;00m\n",
      "File \u001B[0;32m~/code/ml/b2t-study-prophet/.venv/lib/python3.9/site-packages/prophet/models.py:97\u001B[0m, in \u001B[0;36mCmdStanPyBackend.fit\u001B[0;34m(self, stan_init, stan_data, **kwargs)\u001B[0m\n\u001B[1;32m     95\u001B[0m     logger\u001B[38;5;241m.\u001B[39mwarning(\u001B[38;5;124m'\u001B[39m\u001B[38;5;124mOptimization terminated abnormally. Falling back to Newton.\u001B[39m\u001B[38;5;124m'\u001B[39m)\n\u001B[1;32m     96\u001B[0m     args[\u001B[38;5;124m'\u001B[39m\u001B[38;5;124malgorithm\u001B[39m\u001B[38;5;124m'\u001B[39m] \u001B[38;5;241m=\u001B[39m \u001B[38;5;124m'\u001B[39m\u001B[38;5;124mNewton\u001B[39m\u001B[38;5;124m'\u001B[39m\n\u001B[0;32m---> 97\u001B[0m     \u001B[38;5;28mself\u001B[39m\u001B[38;5;241m.\u001B[39mstan_fit \u001B[38;5;241m=\u001B[39m \u001B[38;5;28;43mself\u001B[39;49m\u001B[38;5;241;43m.\u001B[39;49m\u001B[43mmodel\u001B[49m\u001B[38;5;241;43m.\u001B[39;49m\u001B[43moptimize\u001B[49m\u001B[43m(\u001B[49m\u001B[38;5;241;43m*\u001B[39;49m\u001B[38;5;241;43m*\u001B[39;49m\u001B[43margs\u001B[49m\u001B[43m)\u001B[49m\n\u001B[1;32m     98\u001B[0m params \u001B[38;5;241m=\u001B[39m \u001B[38;5;28mself\u001B[39m\u001B[38;5;241m.\u001B[39mstan_to_dict_numpy(\n\u001B[1;32m     99\u001B[0m     \u001B[38;5;28mself\u001B[39m\u001B[38;5;241m.\u001B[39mstan_fit\u001B[38;5;241m.\u001B[39mcolumn_names, \u001B[38;5;28mself\u001B[39m\u001B[38;5;241m.\u001B[39mstan_fit\u001B[38;5;241m.\u001B[39moptimized_params_np)\n\u001B[1;32m    100\u001B[0m \u001B[38;5;28;01mfor\u001B[39;00m par \u001B[38;5;129;01min\u001B[39;00m params:\n",
      "File \u001B[0;32m~/code/ml/b2t-study-prophet/.venv/lib/python3.9/site-packages/cmdstanpy/model.py:738\u001B[0m, in \u001B[0;36mCmdStanModel.optimize\u001B[0;34m(self, data, seed, inits, output_dir, sig_figs, save_profile, algorithm, init_alpha, tol_obj, tol_rel_obj, tol_grad, tol_rel_grad, tol_param, history_size, iter, save_iterations, require_converged, show_console, refresh, time_fmt, timeout)\u001B[0m\n\u001B[1;32m    736\u001B[0m         get_logger()\u001B[38;5;241m.\u001B[39mwarning(msg)\n\u001B[1;32m    737\u001B[0m     \u001B[38;5;28;01melse\u001B[39;00m:\n\u001B[0;32m--> 738\u001B[0m         \u001B[38;5;28;01mraise\u001B[39;00m \u001B[38;5;167;01mRuntimeError\u001B[39;00m(msg)\n\u001B[1;32m    739\u001B[0m mle \u001B[38;5;241m=\u001B[39m CmdStanMLE(runset)\n\u001B[1;32m    740\u001B[0m \u001B[38;5;28;01mreturn\u001B[39;00m mle\n",
      "\u001B[0;31mRuntimeError\u001B[0m: Error during optimization! Command '/Users/m2/code/ml/b2t-study-prophet/.venv/lib/python3.9/site-packages/prophet/stan_model/prophet_model.bin random seed=24377 data file=/var/folders/gx/1mr3nkhn62s1sxgdwspbnk4c0000gp/T/tmpjr2bw6u6/vgwkxq_3.json init=/var/folders/gx/1mr3nkhn62s1sxgdwspbnk4c0000gp/T/tmpjr2bw6u6/svsvzxz_.json output file=/var/folders/gx/1mr3nkhn62s1sxgdwspbnk4c0000gp/T/tmpjr2bw6u6/prophet_modeltp0ip4hn/prophet_model-20230828174615.csv method=optimize algorithm=newton iter=10000' failed: console log output:\n\ndyld[2075]: Library not loaded: @rpath/libtbb.dylib\n  Referenced from: <5A320F93-3D1A-327B-B6C4-851ADAC99095> /Users/m2/code/ml/b2t-study-prophet/.venv/lib/python3.9/site-packages/prophet/stan_model/prophet_model.bin\n  Reason: tried: '/private/var/folders/gx/1mr3nkhn62s1sxgdwspbnk4c0000gp/T/pdm-build-srbd6tdv/build/lib.macosx-13.0-arm64-cpython-39/prophet/stan_model/cmdstan-2.31.0/stan/lib/stan_math/lib/tbb/libtbb.dylib' (no such file), '/System/Volumes/Preboot/Cryptexes/OS/private/var/folders/gx/1mr3nkhn62s1sxgdwspbnk4c0000gp/T/pdm-build-srbd6tdv/build/lib.macosx-13.0-arm64-cpython-39/prophet/stan_model/cmdstan-2.31.0/stan/lib/stan_math/lib/tbb/libtbb.dylib' (no such file), '/private/var/folders/gx/1mr3nkhn62s1sxgdwspbnk4c0000gp/T/pdm-build-srbd6tdv/build/lib.macosx-13.0-arm64-cpython-39/prophet/stan_model/cmdstan-2.31.0/stan/lib/stan_math/lib/tbb/libtbb.dylib' (no such file), '/System/Volumes/Preboot/Cryptexes/OS/private/var/folders/gx/1mr3nkhn62s1sxgdwspbnk4c0000gp/T/pdm-build-srbd6tdv/build/lib.macosx-13.0-arm64-cpython-39/prophet/stan_model/cmdstan-2.31.0/stan/lib/stan_math/lib/tbb/libtbb.dylib' (no such file), '/private/var/folders/gx/1mr3nkhn62s1sxgdwspbnk4c0000gp/T/pdm-build-srbd6tdv/build/lib.macosx-13.0-arm64-cpython-39/prophet/stan_model/cmdstan-2.31.0/stan/lib/stan_math/lib/tbb/libtbb.dylib' (no such file), '/System/Volumes/Preboot/Cryptexes/OS/private/var/folders/gx/1mr3nkhn62s1sxgdwspbnk4c0000gp/T/pdm-build-srbd6tdv/build/lib.macosx-13.0-arm64-cpython-39/prophet/stan_model/cmdstan-2.31.0/stan/lib/stan_math/lib/tbb/libtbb.dylib' (no such file), '/private/var/folders/gx/1mr3nkhn62s1sxgdwspbnk4c0000gp/T/pdm-build-srbd6tdv/build/lib.macosx-13.0-arm64-cpython-39/prophet/stan_model/cmdstan-2.31.0/stan/lib/stan_math/lib/tbb/libtbb.dylib' (no such file), '/System/Volumes/Preboot/Cryptexes/OS/private/var/folders/gx/1mr3nkhn62s1sxgdwspbnk4c0000gp/T/pdm-build-srbd6tdv/build/lib.macosx-13.0-arm64-cpython-39/prophet/stan_model/cmdstan-2.31.0/stan/lib/stan_math/lib/tbb/libtbb.dylib' (no such file), '/System/Volumes/Preboot/Cryptexes/OS@rpath/libtbb.dylib' (no such file), '/private/var/folders/gx/1mr3nkhn62s1sxgdwspbnk4c0000gp/T/pdm-build-srbd6tdv/build/lib.macosx-13.0-arm64-cpython-39/prophet/stan_model/cmdstan-2.31.0/stan/lib/stan_math/lib/tbb/libtbb.dylib' (no such file), '/System/Volumes/Preboot/Cryptexes/OS/private/var/folders/gx/1mr3nkhn62s1sxgdwspbnk4c0000gp/T/pdm-build-srbd6tdv/build/lib.macosx-13.0-arm64-cpython-39/prophet/stan_model/cmdstan-2.31.0/stan/lib/stan_math/lib/tbb/libtbb.dylib' (no such file), '/private/var/folders/gx/1mr3nkhn62s1sxgdwspbnk4c0000gp/T/pdm-build-srbd6tdv/build/lib.macosx-13.0-arm64-cpython-39/prophet/stan_model/cmdstan-2.31.0/stan/lib/stan_math/lib/tbb/libtbb.dylib' (no such file), '/System/Volumes/Preboot/Cryptexes/OS/private/var/folders/gx/1mr3nkhn62s1sxgdwspbnk4c0000gp/T/pdm-build-srbd6tdv/build/lib.macosx-13.0-arm64-cpython-39/prophet/stan_model/cmdstan-2.31.0/stan/lib/stan_math/lib/tbb/libtbb.dylib' (no such file), '/private/var/folders/gx/1mr3nkhn62s1sxgdwspbnk4c0000gp/T/pdm-build-srbd6tdv/build/lib.macosx-13.0-arm64-cpython-39/prophet/stan_model/cmdstan-2.31.0/stan/lib/stan_math/lib/tbb/libtbb.dylib' (no such file), '/System/Volumes/Preboot/Cryptexes/OS/private/var/folders/gx/1mr3nkhn62s1sxgdwspbnk4c0000gp/T/pdm-build-srbd6tdv/build/lib.macosx-13.0-arm64-cpython-39/prophet/stan_model/cmdstan-2.31.0/stan/lib/stan_math/lib/tbb/libtbb.dylib' (no such file), '/private/var/folders/gx/1mr3nkhn62s1sxgdwspbnk4c0000gp/T/pdm-build-srbd6tdv/build/lib.macosx-13.0-arm64-cpython-39/prophet/stan_model/cmdstan-2.31.0/stan/lib/stan_math/lib/tbb/libtbb.dylib' (no such file), '/System/Volumes/Preboot/Cryptexes/OS/private/var/folders/gx/1mr3nkhn62s1sxgdwspbnk4c0000gp/T/pdm-build-srbd6tdv/build/lib.macosx-13.0-arm64-cpython-39/prophet/stan_model/cmdstan-2.31.0/stan/lib/stan_math/lib/tbb/libtbb.dylib' (no such file), '/usr/local/lib/libtbb.dylib' (no such file), '/usr/lib/libtbb.dylib' (no such file, not in dyld cache)\n"
     ]
    }
   ],
   "source": [
    "m = Prophet()\n",
    "m.fit(df)"
   ],
   "metadata": {
    "collapsed": false,
    "ExecuteTime": {
     "end_time": "2023-08-28T08:46:15.677112Z",
     "start_time": "2023-08-28T08:46:15.441608Z"
    }
   },
   "id": "55210aaeec270f41"
  },
  {
   "cell_type": "code",
   "execution_count": 14,
   "outputs": [],
   "source": [
    "#Library not loaded: @rpath/libtbb.dylib\n",
    "# - https://stackoverflow.com/questions/73255165/library-not-loaded-rpath-libtbb-dylib-in-prophet-python"
   ],
   "metadata": {
    "collapsed": false,
    "ExecuteTime": {
     "end_time": "2023-08-28T08:48:07.138974Z",
     "start_time": "2023-08-28T08:48:07.130686Z"
    }
   },
   "id": "eb424879c849356"
  },
  {
   "cell_type": "code",
   "execution_count": null,
   "outputs": [],
   "source": [],
   "metadata": {
    "collapsed": false
   },
   "id": "3336b459fc877ea1"
  }
 ],
 "metadata": {
  "kernelspec": {
   "display_name": "Python 3",
   "language": "python",
   "name": "python3"
  },
  "language_info": {
   "codemirror_mode": {
    "name": "ipython",
    "version": 2
   },
   "file_extension": ".py",
   "mimetype": "text/x-python",
   "name": "python",
   "nbconvert_exporter": "python",
   "pygments_lexer": "ipython2",
   "version": "2.7.6"
  }
 },
 "nbformat": 4,
 "nbformat_minor": 5
}
